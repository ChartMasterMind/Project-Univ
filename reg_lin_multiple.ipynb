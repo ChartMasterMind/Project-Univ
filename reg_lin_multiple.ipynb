{
 "cells": [
  {
   "cell_type": "code",
   "execution_count": 48,
   "metadata": {},
   "outputs": [],
   "source": [
    "import numpy as np\n",
    "\n",
    "from sklearn.datasets import make_regression\n",
    "\n",
    "import matplotlib.pyplot as plt\n"
   ]
  },
  {
   "cell_type": "markdown",
   "metadata": {
    "vscode": {
     "languageId": "html"
    }
   },
   "source": [
    " on peut maintenant devlopper des modele non linéaire avec plusieur variable.\n",
    " * non linéaire car notre monde est rempli de phenomene non linaire. mais on peut tout de meme les estimé grace \n",
    " a la regression linéaire. grace  aux matrice, nous pouvons faiire cela\n",
    "\n",
    " notre modele sera donc f(x) = ax^2+bx+c où f(x) sera donc y estimé\n",
    "\n",
    " l'écriture matricielle sera X la matrices des features et theta la matrices des parametre. f(x) =      X*theta\n",
    "\n",
    " X sera une matrice de taille (m x 3) avec premier colonne les x^2 puis la seconde colonne les x ,et la derniere une ligne de 1 ( car c n'a pas de variable)\n",
    "\n",
    "theta sera une vecteur colonne [a,b,c]\n",
    "\n",
    "\n",
    "ici on va pas changer gros chose a part sur hstack, sur le theta pour changer ses dimmenssion, sur le y = y + abs y/2, et c'est tout."
   ]
  },
  {
   "cell_type": "code",
   "execution_count": 64,
   "metadata": {},
   "outputs": [
    {
     "data": {
      "text/plain": [
       "<matplotlib.collections.PathCollection at 0x1ad5a4cf5d0>"
      ]
     },
     "execution_count": 64,
     "metadata": {},
     "output_type": "execute_result"
    },
    {
     "data": {
      "image/png": "[encoded data removed]",
      "text/plain": [
       "<Figure size 640x480 with 1 Axes>"
      ]
     },
     "metadata": {},
     "output_type": "display_data"
    }
   ],
   "source": [
    "\n",
    "# simulation d'un jeu de donnée\n",
    "\n",
    "x , y = make_regression (n_samples= 100 , n_features=  1 , noise = 10) \n",
    "\n",
    "y = y + abs(y/2) # on fait une transformation des vrai valeur y pour avoir une sorte de non linéarité sur les données\n",
    "\n",
    "plt.scatter(x,y)"
   ]
  },
  {
   "cell_type": "code",
   "execution_count": 50,
   "metadata": {},
   "outputs": [
    {
     "name": "stdout",
     "output_type": "stream",
     "text": [
      "(100, 1)\n",
      "[[ 1.53776816]\n",
      " [ 0.71235773]\n",
      " [ 0.58175919]\n",
      " [-0.16623026]\n",
      " [ 1.05354397]\n",
      " [ 0.40769215]\n",
      " [ 1.88246296]\n",
      " [-0.30753011]\n",
      " [-0.09582147]\n",
      " [ 0.77932637]\n",
      " [ 0.29470115]\n",
      " [-1.13818416]\n",
      " [ 0.94507491]\n",
      " [-1.96354454]\n",
      " [-1.22541759]\n",
      " [ 0.4975    ]\n",
      " [ 0.13027336]\n",
      " [ 2.03190946]\n",
      " [ 0.90237767]\n",
      " [ 1.70177551]\n",
      " [ 1.25740671]\n",
      " [-1.3911913 ]\n",
      " [-1.71067786]\n",
      " [-0.50452707]\n",
      " [ 1.39054348]\n",
      " [-1.82578456]\n",
      " [-1.74265628]\n",
      " [-0.95520519]\n",
      " [ 0.28659172]\n",
      " [-0.11000983]\n",
      " [ 1.44448402]\n",
      " [-0.60097564]\n",
      " [-0.05409185]\n",
      " [ 1.47516369]\n",
      " [ 2.20346008]\n",
      " [ 2.45382328]\n",
      " [ 1.54915549]\n",
      " [-0.15653446]\n",
      " [-0.27266519]\n",
      " [ 0.56196206]\n",
      " [-1.6594868 ]\n",
      " [-0.27680035]\n",
      " [ 0.32064592]\n",
      " [ 0.45077069]\n",
      " [-0.87998576]\n",
      " [-1.41143982]\n",
      " [-2.06634552]\n",
      " [-2.3249318 ]\n",
      " [ 0.48015675]\n",
      " [ 0.48273462]\n",
      " [ 0.17413017]\n",
      " [ 0.95293217]\n",
      " [-0.28820885]\n",
      " [ 0.30242593]\n",
      " [-0.16559786]\n",
      " [-0.42638609]\n",
      " [ 0.34824499]\n",
      " [-1.378829  ]\n",
      " [-0.11395419]\n",
      " [ 0.70889135]\n",
      " [-0.64283459]\n",
      " [-0.31956214]\n",
      " [-0.32196026]\n",
      " [-0.45810972]\n",
      " [ 0.40889817]\n",
      " [ 0.1988829 ]\n",
      " [ 0.05429901]\n",
      " [ 1.29130612]\n",
      " [-1.48027475]\n",
      " [ 1.01691337]\n",
      " [-0.7298091 ]\n",
      " [ 1.72835013]\n",
      " [ 0.95481715]\n",
      " [-1.13253225]\n",
      " [-0.05627166]\n",
      " [ 1.46647689]\n",
      " [-0.49106427]\n",
      " [-0.12000248]\n",
      " [-0.1916368 ]\n",
      " [-0.00520208]\n",
      " [-1.03086677]\n",
      " [ 0.48241599]\n",
      " [-0.40111949]\n",
      " [-0.22046645]\n",
      " [ 0.33127324]\n",
      " [-0.89267388]\n",
      " [ 0.32168314]\n",
      " [ 0.41374371]\n",
      " [-0.79156643]\n",
      " [-1.23893665]\n",
      " [-0.00890982]\n",
      " [-1.74694157]\n",
      " [-0.32308445]\n",
      " [-0.90990985]\n",
      " [ 0.88345004]\n",
      " [ 0.03502507]\n",
      " [ 0.20545645]\n",
      " [ 0.14961338]\n",
      " [ 1.84471853]\n",
      " [ 0.87300681]]\n",
      "[[ 9.30649328e+01]\n",
      " [ 2.32839099e+01]\n",
      " [ 4.49676560e+01]\n",
      " [-3.30971091e+00]\n",
      " [ 7.63167101e+01]\n",
      " [ 1.95405702e+01]\n",
      " [ 1.26719517e+02]\n",
      " [-6.37389287e+00]\n",
      " [ 9.78603878e+00]\n",
      " [ 3.33693301e+01]\n",
      " [ 2.59929575e+01]\n",
      " [-2.28502738e+01]\n",
      " [ 6.38999461e+01]\n",
      " [-5.99982736e+01]\n",
      " [-3.23392277e+01]\n",
      " [ 3.64210523e+01]\n",
      " [-1.87003304e+00]\n",
      " [ 1.51548669e+02]\n",
      " [ 4.43294803e+01]\n",
      " [ 1.12466952e+02]\n",
      " [ 9.10614801e+01]\n",
      " [-3.73251783e+01]\n",
      " [-3.46792097e+01]\n",
      " [-1.00261461e+01]\n",
      " [ 9.83000757e+01]\n",
      " [-5.10650614e+01]\n",
      " [-4.93005169e+01]\n",
      " [-3.52010356e+01]\n",
      " [ 8.44084838e+00]\n",
      " [-1.06371184e+01]\n",
      " [ 9.69399132e+01]\n",
      " [-1.36142055e+01]\n",
      " [ 1.61250139e+01]\n",
      " [ 1.04423064e+02]\n",
      " [ 1.65913008e+02]\n",
      " [ 1.90780555e+02]\n",
      " [ 1.38319412e+02]\n",
      " [-1.35093398e+01]\n",
      " [ 9.41548840e+00]\n",
      " [ 5.97217527e+01]\n",
      " [-4.20140598e+01]\n",
      " [-6.51282327e+00]\n",
      " [ 8.17464539e+00]\n",
      " [ 3.66839689e+01]\n",
      " [-1.27457468e+01]\n",
      " [-3.02880753e+01]\n",
      " [-5.59638014e+01]\n",
      " [-4.83669729e+01]\n",
      " [ 5.16948867e+01]\n",
      " [ 3.82613144e+01]\n",
      " [ 2.57382552e+01]\n",
      " [ 5.15763479e+01]\n",
      " [ 8.45791770e+00]\n",
      " [ 1.86235205e+01]\n",
      " [-1.93599146e+00]\n",
      " [-1.33555961e+01]\n",
      " [ 5.07213734e+01]\n",
      " [-2.85713446e+01]\n",
      " [-1.12365077e+01]\n",
      " [ 4.86624511e+01]\n",
      " [-1.83608234e+01]\n",
      " [-2.91427521e+00]\n",
      " [-4.13066503e+00]\n",
      " [-2.71963122e+00]\n",
      " [ 2.32340170e+01]\n",
      " [ 1.43320292e+01]\n",
      " [ 2.41595211e+01]\n",
      " [ 9.58285038e+01]\n",
      " [-4.15713570e+01]\n",
      " [ 7.36982172e+01]\n",
      " [-1.22539828e+01]\n",
      " [ 1.37685092e+02]\n",
      " [ 8.09755505e+01]\n",
      " [-3.12139088e+01]\n",
      " [-1.77210317e+00]\n",
      " [ 1.23605618e+02]\n",
      " [-5.21474810e+00]\n",
      " [-2.96674025e+00]\n",
      " [-1.17056811e+01]\n",
      " [-2.64163399e+00]\n",
      " [-2.29876035e+01]\n",
      " [ 1.37056797e+01]\n",
      " [-7.19707823e+00]\n",
      " [-1.15271328e+01]\n",
      " [ 2.78210926e+01]\n",
      " [-2.38455702e+01]\n",
      " [ 2.51002183e+01]\n",
      " [ 7.88272361e-01]\n",
      " [-8.10369652e+00]\n",
      " [-3.47335646e+01]\n",
      " [-2.99972541e+00]\n",
      " [-4.02676461e+01]\n",
      " [ 7.84557073e+00]\n",
      " [-2.19755574e+01]\n",
      " [ 6.86535839e+01]\n",
      " [-1.43585228e-01]\n",
      " [-4.49708232e+00]\n",
      " [ 3.74499915e+01]\n",
      " [ 1.25129902e+02]\n",
      " [ 6.45898291e+01]]\n",
      "(100, 1)\n"
     ]
    }
   ],
   "source": [
    "\n",
    "print(x.shape)\n",
    "\n",
    "print (x)\n",
    "\n",
    "y = y.reshape(y.shape[0],1)\n",
    "\n",
    "print(y)\n",
    "\n",
    "print(y.shape)\n",
    "\n",
    "\n"
   ]
  },
  {
   "cell_type": "code",
   "execution_count": 51,
   "metadata": {},
   "outputs": [
    {
     "name": "stdout",
     "output_type": "stream",
     "text": [
      "[[ 2.36473092e+00  1.53776816e+00  1.00000000e+00]\n",
      " [ 5.07453536e-01  7.12357731e-01  1.00000000e+00]\n",
      " [ 3.38443752e-01  5.81759187e-01  1.00000000e+00]\n",
      " [ 2.76325002e-02 -1.66230263e-01  1.00000000e+00]\n",
      " [ 1.10995490e+00  1.05354397e+00  1.00000000e+00]\n",
      " [ 1.66212892e-01  4.07692154e-01  1.00000000e+00]\n",
      " [ 3.54366681e+00  1.88246296e+00  1.00000000e+00]\n",
      " [ 9.45747705e-02 -3.07530113e-01  1.00000000e+00]\n",
      " [ 9.18175426e-03 -9.58214707e-02  1.00000000e+00]\n",
      " [ 6.07349596e-01  7.79326373e-01  1.00000000e+00]\n",
      " [ 8.68487669e-02  2.94701148e-01  1.00000000e+00]\n",
      " [ 1.29546317e+00 -1.13818416e+00  1.00000000e+00]\n",
      " [ 8.93166579e-01  9.45074906e-01  1.00000000e+00]\n",
      " [ 3.85550718e+00 -1.96354454e+00  1.00000000e+00]\n",
      " [ 1.50164828e+00 -1.22541759e+00  1.00000000e+00]\n",
      " [ 2.47506255e-01  4.97500005e-01  1.00000000e+00]\n",
      " [ 1.69711472e-02  1.30273356e-01  1.00000000e+00]\n",
      " [ 4.12865607e+00  2.03190946e+00  1.00000000e+00]\n",
      " [ 8.14285455e-01  9.02377668e-01  1.00000000e+00]\n",
      " [ 2.89603990e+00  1.70177551e+00  1.00000000e+00]\n",
      " [ 1.58107164e+00  1.25740671e+00  1.00000000e+00]\n",
      " [ 1.93541323e+00 -1.39119130e+00  1.00000000e+00]\n",
      " [ 2.92641873e+00 -1.71067786e+00  1.00000000e+00]\n",
      " [ 2.54547564e-01 -5.04527069e-01  1.00000000e+00]\n",
      " [ 1.93361117e+00  1.39054348e+00  1.00000000e+00]\n",
      " [ 3.33348926e+00 -1.82578456e+00  1.00000000e+00]\n",
      " [ 3.03685089e+00 -1.74265628e+00  1.00000000e+00]\n",
      " [ 9.12416949e-01 -9.55205187e-01  1.00000000e+00]\n",
      " [ 8.21348114e-02  2.86591716e-01  1.00000000e+00]\n",
      " [ 1.21021638e-02 -1.10009835e-01  1.00000000e+00]\n",
      " [ 2.08653407e+00  1.44448402e+00  1.00000000e+00]\n",
      " [ 3.61171721e-01 -6.00975641e-01  1.00000000e+00]\n",
      " [ 2.92592830e-03 -5.40918506e-02  1.00000000e+00]\n",
      " [ 2.17610790e+00  1.47516369e+00  1.00000000e+00]\n",
      " [ 4.85523633e+00  2.20346008e+00  1.00000000e+00]\n",
      " [ 6.02124869e+00  2.45382328e+00  1.00000000e+00]\n",
      " [ 2.39988274e+00  1.54915549e+00  1.00000000e+00]\n",
      " [ 2.45030387e-02 -1.56534465e-01  1.00000000e+00]\n",
      " [ 7.43463074e-02 -2.72665193e-01  1.00000000e+00]\n",
      " [ 3.15801354e-01  5.61962058e-01  1.00000000e+00]\n",
      " [ 2.75389645e+00 -1.65948680e+00  1.00000000e+00]\n",
      " [ 7.66184335e-02 -2.76800350e-01  1.00000000e+00]\n",
      " [ 1.02813803e-01  3.20645916e-01  1.00000000e+00]\n",
      " [ 2.03194218e-01  4.50770694e-01  1.00000000e+00]\n",
      " [ 7.74374940e-01 -8.79985761e-01  1.00000000e+00]\n",
      " [ 1.99216238e+00 -1.41143982e+00  1.00000000e+00]\n",
      " [ 4.26978381e+00 -2.06634552e+00  1.00000000e+00]\n",
      " [ 5.40530790e+00 -2.32493180e+00  1.00000000e+00]\n",
      " [ 2.30550508e-01  4.80156753e-01  1.00000000e+00]\n",
      " [ 2.33032711e-01  4.82734618e-01  1.00000000e+00]\n",
      " [ 3.03213155e-02  1.74130168e-01  1.00000000e+00]\n",
      " [ 9.08079716e-01  9.52932168e-01  1.00000000e+00]\n",
      " [ 8.30643409e-02 -2.88208849e-01  1.00000000e+00]\n",
      " [ 9.14614439e-02  3.02425931e-01  1.00000000e+00]\n",
      " [ 2.74226516e-02 -1.65597861e-01  1.00000000e+00]\n",
      " [ 1.81805097e-01 -4.26386089e-01  1.00000000e+00]\n",
      " [ 1.21274573e-01  3.48244991e-01  1.00000000e+00]\n",
      " [ 1.90116942e+00 -1.37882900e+00  1.00000000e+00]\n",
      " [ 1.29855571e-02 -1.13954189e-01  1.00000000e+00]\n",
      " [ 5.02526941e-01  7.08891347e-01  1.00000000e+00]\n",
      " [ 4.13236316e-01 -6.42834595e-01  1.00000000e+00]\n",
      " [ 1.02119964e-01 -3.19562145e-01  1.00000000e+00]\n",
      " [ 1.03658410e-01 -3.21960262e-01  1.00000000e+00]\n",
      " [ 2.09864518e-01 -4.58109723e-01  1.00000000e+00]\n",
      " [ 1.67197716e-01  4.08898173e-01  1.00000000e+00]\n",
      " [ 3.95544071e-02  1.98882898e-01  1.00000000e+00]\n",
      " [ 2.94838264e-03  5.42990115e-02  1.00000000e+00]\n",
      " [ 1.66747150e+00  1.29130612e+00  1.00000000e+00]\n",
      " [ 2.19121333e+00 -1.48027475e+00  1.00000000e+00]\n",
      " [ 1.03411280e+00  1.01691337e+00  1.00000000e+00]\n",
      " [ 5.32621323e-01 -7.29809101e-01  1.00000000e+00]\n",
      " [ 2.98719417e+00  1.72835013e+00  1.00000000e+00]\n",
      " [ 9.11675798e-01  9.54817154e-01  1.00000000e+00]\n",
      " [ 1.28262931e+00 -1.13253225e+00  1.00000000e+00]\n",
      " [ 3.16650016e-03 -5.62716639e-02  1.00000000e+00]\n",
      " [ 2.15055448e+00  1.46647689e+00  1.00000000e+00]\n",
      " [ 2.41144120e-01 -4.91064273e-01  1.00000000e+00]\n",
      " [ 1.44005950e-02 -1.20002479e-01  1.00000000e+00]\n",
      " [ 3.67246632e-02 -1.91636800e-01  1.00000000e+00]\n",
      " [ 2.70615891e-05 -5.20207546e-03  1.00000000e+00]\n",
      " [ 1.06268629e+00 -1.03086677e+00  1.00000000e+00]\n",
      " [ 2.32725187e-01  4.82415989e-01  1.00000000e+00]\n",
      " [ 1.60896846e-01 -4.01119491e-01  1.00000000e+00]\n",
      " [ 4.86054541e-02 -2.20466447e-01  1.00000000e+00]\n",
      " [ 1.09741961e-01  3.31273243e-01  1.00000000e+00]\n",
      " [ 7.96866654e-01 -8.92673879e-01  1.00000000e+00]\n",
      " [ 1.03480045e-01  3.21683144e-01  1.00000000e+00]\n",
      " [ 1.71183858e-01  4.13743711e-01  1.00000000e+00]\n",
      " [ 6.26577407e-01 -7.91566426e-01  1.00000000e+00]\n",
      " [ 1.53496402e+00 -1.23893665e+00  1.00000000e+00]\n",
      " [ 7.93849781e-05 -8.90982481e-03  1.00000000e+00]\n",
      " [ 3.05180483e+00 -1.74694157e+00  1.00000000e+00]\n",
      " [ 1.04383563e-01 -3.23084451e-01  1.00000000e+00]\n",
      " [ 8.27935931e-01 -9.09909848e-01  1.00000000e+00]\n",
      " [ 7.80483973e-01  8.83450040e-01  1.00000000e+00]\n",
      " [ 1.22675533e-03  3.50250671e-02  1.00000000e+00]\n",
      " [ 4.22123511e-02  2.05456446e-01  1.00000000e+00]\n",
      " [ 2.23841649e-02  1.49613385e-01  1.00000000e+00]\n",
      " [ 3.40298644e+00  1.84471853e+00  1.00000000e+00]\n",
      " [ 7.62140885e-01  8.73006807e-01  1.00000000e+00]] (100, 3)\n"
     ]
    }
   ],
   "source": [
    "\n",
    "X = np.hstack ((x**2 , x ,np.ones(x.shape))) # la on va rajouter donc une colone x**2 a la matrice X\n",
    "\n",
    "print (X , X.shape)\n",
    "\n"
   ]
  },
  {
   "cell_type": "markdown",
   "metadata": {},
   "source": [
    "on standardise pour mettre tout sur une echelle commune ( meme poids) et ainsi eviter les biais.\n",
    "Imaginons que tu souhaites prédire le prix des maisons en utilisant deux variables indépendantes :\n",
    "Superficie en mètres carrés (par exemple, une variable avec des valeurs allant de 50 à 300).\n",
    "Âge de la maison en années (par exemple, une variable avec des valeurs allant de 1 à 100).\n",
    "Les deux variables ont des échelles très différentes. La superficie peut varier de 50 à 300 mètres carrés, tandis que l'âge de la maison peut varier de 1 à 100 ans. Si nous utilisons ces variables directement dans une régression linéaire, le modèle pourrait être biaisé en faveur de la variable avec l'échelle la plus grande (superficie).*\n",
    "\n",
    "standardiser n'implique pas necessairement que les valeur sont colpris entre [-1 , 1] il se peut que ces valeurs oscille au voisinage de 1 ou -1 cad 1,02 , - 1,08...\n"
   ]
  },
  {
   "cell_type": "code",
   "execution_count": 52,
   "metadata": {},
   "outputs": [
    {
     "name": "stdout",
     "output_type": "stream",
     "text": [
      "[[-0.01949761]\n",
      " [ 0.71251323]\n",
      " [-0.12598292]]\n"
     ]
    }
   ],
   "source": [
    "\n",
    "theta = np.random.randn(3,1) \n",
    "print (theta)"
   ]
  },
  {
   "cell_type": "code",
   "execution_count": 53,
   "metadata": {},
   "outputs": [
    {
     "data": {
      "text/plain": [
       "(100, 1)"
      ]
     },
     "execution_count": 53,
     "metadata": {},
     "output_type": "execute_result"
    },
    {
     "data": {
      "image/png": "[encoded data removed]",
      "text/plain": [
       "<Figure size 640x480 with 1 Axes>"
      ]
     },
     "metadata": {},
     "output_type": "display_data"
    }
   ],
   "source": [
    "\n",
    "# modele linéaire : f(x) = X*theta où f(x) = y estimé\n",
    "\n",
    "def model (X, theta):\n",
    "    return X.dot(theta)\n",
    "\n",
    "plt.scatter(x,y)\n",
    "\n",
    "plt.plot(x,model(X,theta)) \n",
    "\n",
    "\n",
    "model(X,theta).shape"
   ]
  },
  {
   "cell_type": "code",
   "execution_count": 54,
   "metadata": {},
   "outputs": [
    {
     "data": {
      "text/plain": [
       "1638.6649379596104"
      ]
     },
     "execution_count": 54,
     "metadata": {},
     "output_type": "execute_result"
    }
   ],
   "source": [
    "\n",
    "\n",
    "def fonction_de_cout(X,y, theta):\n",
    "    m = len(x)\n",
    "   \n",
    "    return (1/(2*m))*np.sum(((model(X, theta)) - y)**2)\n",
    "\n",
    "\n",
    "fonction_de_cout(X , y , theta)"
   ]
  },
  {
   "cell_type": "code",
   "execution_count": 55,
   "metadata": {},
   "outputs": [
    {
     "data": {
      "text/plain": [
       "array([[-46.01917038],\n",
       "       [-52.11625227],\n",
       "       [-21.87171888]])"
      ]
     },
     "execution_count": 55,
     "metadata": {},
     "output_type": "execute_result"
    }
   ],
   "source": [
    "\n",
    "def gradient(X,y,theta):\n",
    "    m = len(y)\n",
    "    return 1/m*(X.T.dot(model(X,theta) - y))\n",
    "\n",
    "gradient (X,y,theta)\n",
    "\n"
   ]
  },
  {
   "cell_type": "code",
   "execution_count": 56,
   "metadata": {},
   "outputs": [],
   "source": [
    "\n",
    "\n",
    "def decent_gradient( X, y , theta , learning_rate , n_iteration):\n",
    "\n",
    "    courbe_minimisation_erreur = np.zeros(n_iteration) \n",
    "\n",
    "    for i in range ( n_iteration) :\n",
    "\n",
    "        theta = theta - learning_rate * gradient(X,y,theta)\n",
    "\n",
    "        courbe_minimisation_erreur[i] = fonction_de_cout (X,y,theta)\n",
    "    return theta , courbe_minimisation_erreur \n",
    "\n",
    "\n",
    "theta_final , courbe_minimisation_erreur = decent_gradient(X,y,theta, learning_rate=0.01, n_iteration=400)\n",
    "\n"
   ]
  },
  {
   "cell_type": "code",
   "execution_count": 61,
   "metadata": {},
   "outputs": [
    {
     "data": {
      "text/plain": [
       "<matplotlib.collections.PathCollection at 0x1ad5a484910>"
      ]
     },
     "execution_count": 61,
     "metadata": {},
     "output_type": "execute_result"
    },
    {
     "data": {
      "image/png": "[encoded data removed]",
      "text/plain": [
       "<Figure size 640x480 with 1 Axes>"
      ]
     },
     "metadata": {},
     "output_type": "display_data"
    }
   ],
   "source": [
    "regression = model(X,theta_final) \n",
    "\n",
    "plt.scatter(x,y) \n",
    "\n",
    "# alors pourquoi scatter et pas plot. en gros la decente du grandient va chercher des point a chaque iteration donc plot va relier ses points\n",
    "# mais sur une droite ca se voit pas mais sur une courbe on voit que les point sont relier tous entre eux ( voiir formule de la deecente du gradients)\n",
    "# au moins avec scater on a n'a pas de liasion des point et il nous affiche seulement les points truver par decent gradient\n",
    "\n",
    "plt.scatter(x, regression , c=\"r\")"
   ]
  },
  {
   "cell_type": "code",
   "execution_count": 58,
   "metadata": {},
   "outputs": [
    {
     "data": {
      "text/plain": [
       "[<matplotlib.lines.Line2D at 0x1ad5a454d90>]"
      ]
     },
     "execution_count": 58,
     "metadata": {},
     "output_type": "execute_result"
    },
    {
     "data": {
      "image/png": "[encoded data removed]",
      "text/plain": [
       "<Figure size 640x480 with 1 Axes>"
      ]
     },
     "metadata": {},
     "output_type": "display_data"
    }
   ],
   "source": [
    "plt.plot(range(400),courbe_minimisation_erreur) "
   ]
  },
  {
   "cell_type": "code",
   "execution_count": 59,
   "metadata": {},
   "outputs": [
    {
     "data": {
      "text/plain": [
       "'le coefficient de determination est égale à 0.9566230389342313, le modèle est tres bien ajuster '"
      ]
     },
     "execution_count": 59,
     "metadata": {},
     "output_type": "execute_result"
    }
   ],
   "source": [
    "\n",
    "def coef_determination(y, regression):\n",
    "\n",
    "    coef = 1 - (np.sum((y - regression)**2))/ np.sum(((y - np.mean(y))**2))\n",
    "\n",
    "    if coef <= 0.9:\n",
    "        print(f\"le coefficient est égale à {coef}\")\n",
    "\n",
    "    else:\n",
    "        return f\"le coefficient de determination est égale à {coef}, le modèle est tres bien ajuster \"\n",
    "    \n",
    "\n",
    "coef_determination(y,regression)\n",
    "\n"
   ]
  }
 ],
 "metadata": {
  "kernelspec": {
   "display_name": "base",
   "language": "python",
   "name": "python3"
  },
  "language_info": {
   "codemirror_mode": {
    "name": "ipython",
    "version": 3
   },
   "file_extension": ".py",
   "mimetype": "text/x-python",
   "name": "python",
   "nbconvert_exporter": "python",
   "pygments_lexer": "ipython3",
   "version": "3.11.7"
  }
 },
 "nbformat": 4,
 "nbformat_minor": 2
}
