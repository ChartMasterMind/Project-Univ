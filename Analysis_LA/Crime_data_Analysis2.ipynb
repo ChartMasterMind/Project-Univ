{
 "cells": [
  {
   "cell_type": "markdown",
   "id": "549fbb4e",
   "metadata": {},
   "source": [
    "#   Crime Classification\n",
    "\n",
    "introduction \n"
   ]
  },
  {
   "cell_type": "code",
   "execution_count": null,
   "id": "24dfcee0",
   "metadata": {},
   "outputs": [],
   "source": []
  },
  {
   "cell_type": "markdown",
   "id": "2b26c7dc",
   "metadata": {},
   "source": [
    "## Importation de notre base de donnée, analyse et data preprocessing\n"
   ]
  },
  {
   "cell_type": "code",
   "execution_count": null,
   "id": "98b96c51",
   "metadata": {},
   "outputs": [],
   "source": []
  },
  {
   "cell_type": "markdown",
   "id": "91ad7b52",
   "metadata": {},
   "source": [
    "\n",
    "#### Importation de notre base de données\n",
    "\n",
    "- Remarque : Ajout d'un \"r\" dans le code pour transformer notre chaîne de caractères en \"raw string\" afin de permettre une lecture de notre chaîne de caractères sans prendre en compte les séquences d'échappement (ex : \"\\n\", \"\\t\", et dans notre cas \"\\U\" (représente les caractères Unicode)), afin d'éviter toutes erreurs d'importations.\n",
    "\n",
    "- Une autre solution aurait été de renommer \"Users\" pour éviter ce problème.."
   ]
  },
  {
   "cell_type": "code",
   "execution_count": 1,
   "id": "132bbf82",
   "metadata": {},
   "outputs": [
    {
     "ename": "FileNotFoundError",
     "evalue": "[Errno 2] No such file or directory: 'C:\\\\Users\\\\mamad\\\\Desktop\\\\Projet_Pyhton\\\\donnee\\\\Crime_Data_from_2020_to_Present_20240416.csv'",
     "output_type": "error",
     "traceback": [
      "\u001b[1;31m---------------------------------------------------------------------------\u001b[0m",
      "\u001b[1;31mFileNotFoundError\u001b[0m                         Traceback (most recent call last)",
      "Cell \u001b[1;32mIn[1], line 5\u001b[0m\n\u001b[0;32m      2\u001b[0m \u001b[38;5;28;01mimport\u001b[39;00m \u001b[38;5;21;01mpandas\u001b[39;00m \u001b[38;5;28;01mas\u001b[39;00m \u001b[38;5;21;01mpd\u001b[39;00m\n\u001b[0;32m      4\u001b[0m \u001b[38;5;66;03m# Importation de la base de données \u001b[39;00m\n\u001b[1;32m----> 5\u001b[0m crime \u001b[38;5;241m=\u001b[39m pd\u001b[38;5;241m.\u001b[39mread_csv(\u001b[38;5;124mr\u001b[39m\u001b[38;5;124m\"\u001b[39m\u001b[38;5;124mC:\u001b[39m\u001b[38;5;124m\\\u001b[39m\u001b[38;5;124mUsers\u001b[39m\u001b[38;5;124m\\\u001b[39m\u001b[38;5;124mmamad\u001b[39m\u001b[38;5;124m\\\u001b[39m\u001b[38;5;124mDesktop\u001b[39m\u001b[38;5;124m\\\u001b[39m\u001b[38;5;124mProjet_Pyhton\u001b[39m\u001b[38;5;124m\\\u001b[39m\u001b[38;5;124mdonnee\u001b[39m\u001b[38;5;124m\\\u001b[39m\u001b[38;5;124mCrime_Data_from_2020_to_Present_20240416.csv\u001b[39m\u001b[38;5;124m\"\u001b[39m)\n\u001b[0;32m      7\u001b[0m \u001b[38;5;66;03m# Affichage des 5 premières lignes\u001b[39;00m\n\u001b[0;32m      8\u001b[0m crime\u001b[38;5;241m.\u001b[39mhead(\u001b[38;5;241m5\u001b[39m)\n",
      "File \u001b[1;32mc:\\Users\\mamad\\anaconda3\\Lib\\site-packages\\pandas\\io\\parsers\\readers.py:948\u001b[0m, in \u001b[0;36mread_csv\u001b[1;34m(filepath_or_buffer, sep, delimiter, header, names, index_col, usecols, dtype, engine, converters, true_values, false_values, skipinitialspace, skiprows, skipfooter, nrows, na_values, keep_default_na, na_filter, verbose, skip_blank_lines, parse_dates, infer_datetime_format, keep_date_col, date_parser, date_format, dayfirst, cache_dates, iterator, chunksize, compression, thousands, decimal, lineterminator, quotechar, quoting, doublequote, escapechar, comment, encoding, encoding_errors, dialect, on_bad_lines, delim_whitespace, low_memory, memory_map, float_precision, storage_options, dtype_backend)\u001b[0m\n\u001b[0;32m    935\u001b[0m kwds_defaults \u001b[38;5;241m=\u001b[39m _refine_defaults_read(\n\u001b[0;32m    936\u001b[0m     dialect,\n\u001b[0;32m    937\u001b[0m     delimiter,\n\u001b[1;32m   (...)\u001b[0m\n\u001b[0;32m    944\u001b[0m     dtype_backend\u001b[38;5;241m=\u001b[39mdtype_backend,\n\u001b[0;32m    945\u001b[0m )\n\u001b[0;32m    946\u001b[0m kwds\u001b[38;5;241m.\u001b[39mupdate(kwds_defaults)\n\u001b[1;32m--> 948\u001b[0m \u001b[38;5;28;01mreturn\u001b[39;00m _read(filepath_or_buffer, kwds)\n",
      "File \u001b[1;32mc:\\Users\\mamad\\anaconda3\\Lib\\site-packages\\pandas\\io\\parsers\\readers.py:611\u001b[0m, in \u001b[0;36m_read\u001b[1;34m(filepath_or_buffer, kwds)\u001b[0m\n\u001b[0;32m    608\u001b[0m _validate_names(kwds\u001b[38;5;241m.\u001b[39mget(\u001b[38;5;124m\"\u001b[39m\u001b[38;5;124mnames\u001b[39m\u001b[38;5;124m\"\u001b[39m, \u001b[38;5;28;01mNone\u001b[39;00m))\n\u001b[0;32m    610\u001b[0m \u001b[38;5;66;03m# Create the parser.\u001b[39;00m\n\u001b[1;32m--> 611\u001b[0m parser \u001b[38;5;241m=\u001b[39m TextFileReader(filepath_or_buffer, \u001b[38;5;241m*\u001b[39m\u001b[38;5;241m*\u001b[39mkwds)\n\u001b[0;32m    613\u001b[0m \u001b[38;5;28;01mif\u001b[39;00m chunksize \u001b[38;5;129;01mor\u001b[39;00m iterator:\n\u001b[0;32m    614\u001b[0m     \u001b[38;5;28;01mreturn\u001b[39;00m parser\n",
      "File \u001b[1;32mc:\\Users\\mamad\\anaconda3\\Lib\\site-packages\\pandas\\io\\parsers\\readers.py:1448\u001b[0m, in \u001b[0;36mTextFileReader.__init__\u001b[1;34m(self, f, engine, **kwds)\u001b[0m\n\u001b[0;32m   1445\u001b[0m     \u001b[38;5;28mself\u001b[39m\u001b[38;5;241m.\u001b[39moptions[\u001b[38;5;124m\"\u001b[39m\u001b[38;5;124mhas_index_names\u001b[39m\u001b[38;5;124m\"\u001b[39m] \u001b[38;5;241m=\u001b[39m kwds[\u001b[38;5;124m\"\u001b[39m\u001b[38;5;124mhas_index_names\u001b[39m\u001b[38;5;124m\"\u001b[39m]\n\u001b[0;32m   1447\u001b[0m \u001b[38;5;28mself\u001b[39m\u001b[38;5;241m.\u001b[39mhandles: IOHandles \u001b[38;5;241m|\u001b[39m \u001b[38;5;28;01mNone\u001b[39;00m \u001b[38;5;241m=\u001b[39m \u001b[38;5;28;01mNone\u001b[39;00m\n\u001b[1;32m-> 1448\u001b[0m \u001b[38;5;28mself\u001b[39m\u001b[38;5;241m.\u001b[39m_engine \u001b[38;5;241m=\u001b[39m \u001b[38;5;28mself\u001b[39m\u001b[38;5;241m.\u001b[39m_make_engine(f, \u001b[38;5;28mself\u001b[39m\u001b[38;5;241m.\u001b[39mengine)\n",
      "File \u001b[1;32mc:\\Users\\mamad\\anaconda3\\Lib\\site-packages\\pandas\\io\\parsers\\readers.py:1705\u001b[0m, in \u001b[0;36mTextFileReader._make_engine\u001b[1;34m(self, f, engine)\u001b[0m\n\u001b[0;32m   1703\u001b[0m     \u001b[38;5;28;01mif\u001b[39;00m \u001b[38;5;124m\"\u001b[39m\u001b[38;5;124mb\u001b[39m\u001b[38;5;124m\"\u001b[39m \u001b[38;5;129;01mnot\u001b[39;00m \u001b[38;5;129;01min\u001b[39;00m mode:\n\u001b[0;32m   1704\u001b[0m         mode \u001b[38;5;241m+\u001b[39m\u001b[38;5;241m=\u001b[39m \u001b[38;5;124m\"\u001b[39m\u001b[38;5;124mb\u001b[39m\u001b[38;5;124m\"\u001b[39m\n\u001b[1;32m-> 1705\u001b[0m \u001b[38;5;28mself\u001b[39m\u001b[38;5;241m.\u001b[39mhandles \u001b[38;5;241m=\u001b[39m get_handle(\n\u001b[0;32m   1706\u001b[0m     f,\n\u001b[0;32m   1707\u001b[0m     mode,\n\u001b[0;32m   1708\u001b[0m     encoding\u001b[38;5;241m=\u001b[39m\u001b[38;5;28mself\u001b[39m\u001b[38;5;241m.\u001b[39moptions\u001b[38;5;241m.\u001b[39mget(\u001b[38;5;124m\"\u001b[39m\u001b[38;5;124mencoding\u001b[39m\u001b[38;5;124m\"\u001b[39m, \u001b[38;5;28;01mNone\u001b[39;00m),\n\u001b[0;32m   1709\u001b[0m     compression\u001b[38;5;241m=\u001b[39m\u001b[38;5;28mself\u001b[39m\u001b[38;5;241m.\u001b[39moptions\u001b[38;5;241m.\u001b[39mget(\u001b[38;5;124m\"\u001b[39m\u001b[38;5;124mcompression\u001b[39m\u001b[38;5;124m\"\u001b[39m, \u001b[38;5;28;01mNone\u001b[39;00m),\n\u001b[0;32m   1710\u001b[0m     memory_map\u001b[38;5;241m=\u001b[39m\u001b[38;5;28mself\u001b[39m\u001b[38;5;241m.\u001b[39moptions\u001b[38;5;241m.\u001b[39mget(\u001b[38;5;124m\"\u001b[39m\u001b[38;5;124mmemory_map\u001b[39m\u001b[38;5;124m\"\u001b[39m, \u001b[38;5;28;01mFalse\u001b[39;00m),\n\u001b[0;32m   1711\u001b[0m     is_text\u001b[38;5;241m=\u001b[39mis_text,\n\u001b[0;32m   1712\u001b[0m     errors\u001b[38;5;241m=\u001b[39m\u001b[38;5;28mself\u001b[39m\u001b[38;5;241m.\u001b[39moptions\u001b[38;5;241m.\u001b[39mget(\u001b[38;5;124m\"\u001b[39m\u001b[38;5;124mencoding_errors\u001b[39m\u001b[38;5;124m\"\u001b[39m, \u001b[38;5;124m\"\u001b[39m\u001b[38;5;124mstrict\u001b[39m\u001b[38;5;124m\"\u001b[39m),\n\u001b[0;32m   1713\u001b[0m     storage_options\u001b[38;5;241m=\u001b[39m\u001b[38;5;28mself\u001b[39m\u001b[38;5;241m.\u001b[39moptions\u001b[38;5;241m.\u001b[39mget(\u001b[38;5;124m\"\u001b[39m\u001b[38;5;124mstorage_options\u001b[39m\u001b[38;5;124m\"\u001b[39m, \u001b[38;5;28;01mNone\u001b[39;00m),\n\u001b[0;32m   1714\u001b[0m )\n\u001b[0;32m   1715\u001b[0m \u001b[38;5;28;01massert\u001b[39;00m \u001b[38;5;28mself\u001b[39m\u001b[38;5;241m.\u001b[39mhandles \u001b[38;5;129;01mis\u001b[39;00m \u001b[38;5;129;01mnot\u001b[39;00m \u001b[38;5;28;01mNone\u001b[39;00m\n\u001b[0;32m   1716\u001b[0m f \u001b[38;5;241m=\u001b[39m \u001b[38;5;28mself\u001b[39m\u001b[38;5;241m.\u001b[39mhandles\u001b[38;5;241m.\u001b[39mhandle\n",
      "File \u001b[1;32mc:\\Users\\mamad\\anaconda3\\Lib\\site-packages\\pandas\\io\\common.py:863\u001b[0m, in \u001b[0;36mget_handle\u001b[1;34m(path_or_buf, mode, encoding, compression, memory_map, is_text, errors, storage_options)\u001b[0m\n\u001b[0;32m    858\u001b[0m \u001b[38;5;28;01melif\u001b[39;00m \u001b[38;5;28misinstance\u001b[39m(handle, \u001b[38;5;28mstr\u001b[39m):\n\u001b[0;32m    859\u001b[0m     \u001b[38;5;66;03m# Check whether the filename is to be opened in binary mode.\u001b[39;00m\n\u001b[0;32m    860\u001b[0m     \u001b[38;5;66;03m# Binary mode does not support 'encoding' and 'newline'.\u001b[39;00m\n\u001b[0;32m    861\u001b[0m     \u001b[38;5;28;01mif\u001b[39;00m ioargs\u001b[38;5;241m.\u001b[39mencoding \u001b[38;5;129;01mand\u001b[39;00m \u001b[38;5;124m\"\u001b[39m\u001b[38;5;124mb\u001b[39m\u001b[38;5;124m\"\u001b[39m \u001b[38;5;129;01mnot\u001b[39;00m \u001b[38;5;129;01min\u001b[39;00m ioargs\u001b[38;5;241m.\u001b[39mmode:\n\u001b[0;32m    862\u001b[0m         \u001b[38;5;66;03m# Encoding\u001b[39;00m\n\u001b[1;32m--> 863\u001b[0m         handle \u001b[38;5;241m=\u001b[39m \u001b[38;5;28mopen\u001b[39m(\n\u001b[0;32m    864\u001b[0m             handle,\n\u001b[0;32m    865\u001b[0m             ioargs\u001b[38;5;241m.\u001b[39mmode,\n\u001b[0;32m    866\u001b[0m             encoding\u001b[38;5;241m=\u001b[39mioargs\u001b[38;5;241m.\u001b[39mencoding,\n\u001b[0;32m    867\u001b[0m             errors\u001b[38;5;241m=\u001b[39merrors,\n\u001b[0;32m    868\u001b[0m             newline\u001b[38;5;241m=\u001b[39m\u001b[38;5;124m\"\u001b[39m\u001b[38;5;124m\"\u001b[39m,\n\u001b[0;32m    869\u001b[0m         )\n\u001b[0;32m    870\u001b[0m     \u001b[38;5;28;01melse\u001b[39;00m:\n\u001b[0;32m    871\u001b[0m         \u001b[38;5;66;03m# Binary mode\u001b[39;00m\n\u001b[0;32m    872\u001b[0m         handle \u001b[38;5;241m=\u001b[39m \u001b[38;5;28mopen\u001b[39m(handle, ioargs\u001b[38;5;241m.\u001b[39mmode)\n",
      "\u001b[1;31mFileNotFoundError\u001b[0m: [Errno 2] No such file or directory: 'C:\\\\Users\\\\mamad\\\\Desktop\\\\Projet_Pyhton\\\\donnee\\\\Crime_Data_from_2020_to_Present_20240416.csv'"
     ]
    }
   ],
   "source": [
    "# importation du module pandas\n",
    "import pandas as pd\n",
    "\n",
    "# Importation de la base de données \n",
    "crime = pd.read_csv(r\"C:\\Users\\mamad\\Desktop\\Projet_Pyhton\\donnee\\Crime_Data_from_2020_to_Present_20240416.csv\")\n",
    "\n",
    "# Affichage des 5 premières lignes\n",
    "crime.head(5)"
   ]
  },
  {
   "cell_type": "markdown",
   "id": "e17abb98",
   "metadata": {},
   "source": [
    "#### Information sur notre base de données (type des données, nom de chaque colonne , nombre de lignes et de colonne)"
   ]
  },
  {
   "cell_type": "code",
   "execution_count": null,
   "id": "3963390e",
   "metadata": {},
   "outputs": [
    {
     "name": "stdout",
     "output_type": "stream",
     "text": [
      "<class 'pandas.core.frame.DataFrame'>\n",
      "RangeIndex: 925720 entries, 0 to 925719\n",
      "Data columns (total 28 columns):\n",
      " #   Column          Non-Null Count   Dtype  \n",
      "---  ------          --------------   -----  \n",
      " 0   DR_NO           925720 non-null  int64  \n",
      " 1   Date Rptd       925720 non-null  object \n",
      " 2   DATE OCC        925720 non-null  object \n",
      " 3   TIME OCC        925720 non-null  int64  \n",
      " 4   AREA            925720 non-null  int64  \n",
      " 5   AREA NAME       925720 non-null  object \n",
      " 6   Rpt Dist No     925720 non-null  int64  \n",
      " 7   Part 1-2        925720 non-null  int64  \n",
      " 8   Crm Cd          925720 non-null  int64  \n",
      " 9   Crm Cd Desc     925720 non-null  object \n",
      " 10  Mocodes         796258 non-null  object \n",
      " 11  Vict Age        925720 non-null  int64  \n",
      " 12  Vict Sex        802562 non-null  object \n",
      " 13  Vict Descent    802552 non-null  object \n",
      " 14  Premis Cd       925709 non-null  float64\n",
      " 15  Premis Desc     925161 non-null  object \n",
      " 16  Weapon Used Cd  319701 non-null  float64\n",
      " 17  Weapon Desc     319701 non-null  object \n",
      " 18  Status          925720 non-null  object \n",
      " 19  Status Desc     925720 non-null  object \n",
      " 20  Crm Cd 1        925709 non-null  float64\n",
      " 21  Crm Cd 2        67237 non-null   float64\n",
      " 22  Crm Cd 3        2260 non-null    float64\n",
      " 23  Crm Cd 4        64 non-null      float64\n",
      " 24  LOCATION        925720 non-null  object \n",
      " 25  Cross Street    145226 non-null  object \n",
      " 26  LAT             925720 non-null  float64\n",
      " 27  LON             925720 non-null  float64\n",
      "dtypes: float64(8), int64(7), object(13)\n",
      "memory usage: 197.8+ MB\n"
     ]
    }
   ],
   "source": [
    "\n",
    "crime.info()"
   ]
  },
  {
   "cell_type": "markdown",
   "id": "a9057dde",
   "metadata": {},
   "source": [
    "## Data preprocessing  \n",
    "\n",
    "Nous allons nous concentrer ici sur la préparation de notre ensemble de données criminelles pour l'analyse."
   ]
  },
  {
   "cell_type": "markdown",
   "id": "c841ed4a",
   "metadata": {},
   "source": [
    "### Gestion des valeurs manquantes"
   ]
  },
  {
   "cell_type": "markdown",
   "id": "83b07c9b",
   "metadata": {},
   "source": [
    "- Explication du code : .isna permet de retourner une base de données avec les valeurs True (\"est une valeur manquante\") et False (\"n'est pas une valeur manquante\").\n",
    "\n",
    "- Pour rappel, True = 1 et False = 0. Donc lorsque l'on fait sum (somme d'une séquence de données) après .isna, Python calcule la somme totale des valeurs manquantes pour chaque colonne.\n",
    "\n",
    "- Détail : on aura une séquence de 1 et de 0 pour chaque colonne qui correspondent aux valeurs manquantes ou non (rôle de la fonction isna) et on additionne les valeurs de chacune des séquences (rôle de la fonction sum) pour avoir le nombre de valeurs manquantes dans chacune des colonnes.\n"
   ]
  },
  {
   "cell_type": "code",
   "execution_count": null,
   "id": "975a5cde",
   "metadata": {},
   "outputs": [
    {
     "data": {
      "text/plain": [
       "DR_NO                  0\n",
       "Date Rptd              0\n",
       "DATE OCC               0\n",
       "TIME OCC               0\n",
       "AREA                   0\n",
       "AREA NAME              0\n",
       "Rpt Dist No            0\n",
       "Part 1-2               0\n",
       "Crm Cd                 0\n",
       "Crm Cd Desc            0\n",
       "Mocodes           129462\n",
       "Vict Age               0\n",
       "Vict Sex          123158\n",
       "Vict Descent      123168\n",
       "Premis Cd             11\n",
       "Premis Desc          559\n",
       "Weapon Used Cd    606019\n",
       "Weapon Desc       606019\n",
       "Status                 0\n",
       "Status Desc            0\n",
       "Crm Cd 1              11\n",
       "Crm Cd 2          858483\n",
       "Crm Cd 3          923460\n",
       "Crm Cd 4          925656\n",
       "LOCATION               0\n",
       "Cross Street      780494\n",
       "LAT                    0\n",
       "LON                    0\n",
       "dtype: int64"
      ]
     },
     "execution_count": 5,
     "metadata": {},
     "output_type": "execute_result"
    }
   ],
   "source": [
    "# voir les valeurs manquantes pour chaque colonne de notre base de données\n",
    "\n",
    "crime.isna().sum()\n"
   ]
  },
  {
   "cell_type": "markdown",
   "id": "404c2053",
   "metadata": {},
   "source": [
    "### Imputation de valeurs pour la colonne 'Mocodes': \n",
    "\n",
    "- .fillna permet de remplacer une valeur manquante par une valeur que l'on aura spécifiée (imputation). Ici, on remplace les valeurs manquantes de la colonne 'Mocodes' par '1501 Other MO'.\n",
    "\n",
    "- On met inplace=True car on souhaite modifier les valeurs directement dans notre base de données sans créer de copie. Normalement, Python crée une copie de cette base lorsqu'il y a des modifications (pour conserver la base originale), ce qui utilise plus de mémoire."
   ]
  },
  {
   "cell_type": "code",
   "execution_count": null,
   "id": "a45e7979",
   "metadata": {},
   "outputs": [],
   "source": [
    "#Nettoyage des données\n",
    "\n",
    "crime[\"Mocodes\"].fillna(\"1501 Other MO\", inplace=True)"
   ]
  },
  {
   "cell_type": "markdown",
   "id": "16506464",
   "metadata": {},
   "source": [
    "#### Imputation de valeurs pour les colonnes mentionnant le sexe de la victime et son ethnie\n",
    "- On procède de la même manière que pour les Mocodes et on impute cette fois-ci un 'X' pour les colonnes 'Vict Sex' et 'Vict Descent'."
   ]
  },
  {
   "cell_type": "code",
   "execution_count": null,
   "id": "ec56ef6c",
   "metadata": {},
   "outputs": [],
   "source": [
    "crime['Vict Sex'].fillna('X', inplace=True)\n",
    "crime['Vict Descent'].fillna('X', inplace=True)"
   ]
  },
  {
   "cell_type": "markdown",
   "id": "b0fdf4c0",
   "metadata": {},
   "source": [
    "####    imputation de valeurs pour les colone mentionnant le type d'arme \n",
    "- Pour les colonnes 'Weapon Used Cd' (qui contiennent les types d'armes associés à des codes juridiques dans la loi) et 'Weapon Desc' (qui contient la description du code associé à l'arme utilisée, donc si la troisième ligne de Weapon Used Cd = 101, alors la troisième ligne de Weapon Desc sera la description du code 101), on impute la valeur '500' dans la colonne 'Weapon Used Cd', qui est le code lorsque l'arme est inconnue. De plus, on impute la valeur 'UNKNOWN WEAPON/OTHER WEAPON' dans la colonne Weapon Desc, qui est la description du code 500, conformément aux codes de la juridiction de Los Angeles."
   ]
  },
  {
   "cell_type": "code",
   "execution_count": null,
   "id": "f62d6158",
   "metadata": {},
   "outputs": [],
   "source": [
    "# on impute la description du code 500 dans la colonne qui decrit ces codes\n",
    "crime['Weapon Desc'].fillna('UNKNOWN WEAPON/OTHER WEAPON', inplace=True)\n",
    "\n",
    "#assigne la valeur 500 lorsque la valeur est manquante\n",
    "\n",
    "crime[\"Weapon Used Cd\"].fillna(500, inplace=True)\n",
    "\n"
   ]
  },
  {
   "cell_type": "markdown",
   "id": "1e6454d6",
   "metadata": {},
   "source": [
    "### Suppression des données inutiles"
   ]
  },
  {
   "cell_type": "markdown",
   "id": "dec75060",
   "metadata": {},
   "source": [
    "\n",
    "#### Supprimer les lignes qui ne contiennent pas les valeurs de la colonne 'Premis Desc'\n",
    "\n",
    "- Explication du code : `dropna` permet de supprimer les valeurs manquantes. Cette suppression implique la suppression des lignes où il y a des valeurs manquantes. En effectuant plusieurs recherches sur des forums, j'ai découvert une fonction appelée `subset` qui m'a permis de spécifier sur quelle colonne `dropna` devrait être appliqué.\n",
    "\n",
    "- L'importance d'utiliser cela au lieu de `crime['Premis Desc'].dropna()` est que cette approche permet de modifier les valeurs d'une colonne dans le DataFrame original, ce qui permet d'afficher la colonne modifiée avec les autres colonnes. L'utilité de `crime['Premis Desc'].dropna` est lorsque l'on veut seulement étudier cette colonne en particulier car notre code nous renvoie dans le terminal seulement la colonne 'Premis Desc' modifiée. En réalité, le DataFrame n'a pas été modifié car Python a créé une copie de la colonne 'Premis Desc' pour pouvoir appliquer ces modifications."
   ]
  },
  {
   "cell_type": "code",
   "execution_count": null,
   "id": "98999cf9",
   "metadata": {},
   "outputs": [],
   "source": [
    "\n",
    "crime = crime.dropna(subset=['Premis Desc'])"
   ]
  },
  {
   "cell_type": "markdown",
   "id": "20d8583f",
   "metadata": {},
   "source": [
    "\n",
    "#### Suppression des colonnes\n",
    "\n",
    "- Explication du code : Nous utilisons la méthode `.drop()` pour supprimer nos colonnes. L'argument `inplace=True` permet de supprimer les colonnes directement dans notre base de données `crime` de manière définitive (les colonnes ne doivent pas réapparaître lorsque nous appelons notre base) et `axis=1` permet de spécifier que nous voulons supprimer les colonnes.\n",
    "\n",
    "- Remarque : Nous aurions également pu faire `crime.drop(crime['Crm Cd 1'], inplace=True)`, le résultat aurait été similaire."
   ]
  },
  {
   "cell_type": "code",
   "execution_count": null,
   "id": "0b181053",
   "metadata": {},
   "outputs": [],
   "source": [
    "# supprimer la colonne Part 1-2\n",
    "\n",
    "crime.drop(crime[\"Part 1-2\"], inplace=True)\n",
    "\n",
    "#supprimer la colonne Crm Cd 1\n",
    "crime.drop('Crm Cd 1', axis=1, inplace=True)\n",
    "\n",
    "# supprimer la colonne Crm Cd 2\n",
    "crime.drop('Crm Cd 2', axis=1, inplace=True)\n",
    "\n",
    "#supprimer la colonne Crm Cd 3\n",
    "crime.drop('Crm Cd 3', axis=1, inplace=True)\n",
    "\n",
    "#supprimer la colonne Crm Cd 4\n",
    "crime.drop('Crm Cd 4', axis=1, inplace=True)"
   ]
  },
  {
   "cell_type": "markdown",
   "id": "baf6155e",
   "metadata": {},
   "source": [
    "#### filtrage des données : Convertir la colonne date en objet Date\n",
    "\n",
    "\n",
    "-   On va convertir la colonne Date Rptd en format datetime pour faciliter l'analyse temporelle. Les objets datetime sont très utile car elle permette de stocker des élèments temporelles ce qui facilite les opérations que l'on peut faire sur des données temporelles ( par exemple :  analyser les crimes seulement après 18 heures, les crimes qui commence pendant les 3 premiers jours de chaque mois... ). L'objet Datetime permet aussi de séparer les donnée selon un type temporelle ( année , jours , heures, mois)\n",
    "\n",
    "-   Mais pour notre analyse, la convertion en datetime ne suffit pas : On va aussi separé les dates, les années et les mois en differentes colonnes pour faciliter le filtrage des données :   On pourra grâce à cela regrouper les données selon les mois, les années et même les jours ce qui est très utile pour analyser certaines tendances.\n",
    "\n",
    "- explication du code : pd.to_datetime permet de convertir la colonne Date Rptd en format datetime. En regardant un peu les fonctions d'analyse temporelle sur le site de pandas, on a trouvé une fonction qui se nomme .dt et qui permet d'extraire les données temporelles que l'on souhaite. Le .year , month ou day  permet de spécifier qu'elle type de donnée temporelle on souhaite extraire grâce au .dt . Donc ici, on crée des colonnes Année, mois et jours qui contiendrons respectivement les années, les mois et les jours de chaque crime.\n",
    "\n"
   ]
  },
  {
   "cell_type": "code",
   "execution_count": null,
   "id": "78549126",
   "metadata": {},
   "outputs": [
    {
     "name": "stderr",
     "output_type": "stream",
     "text": [
      "C:\\Users\\mamad\\AppData\\Local\\Temp\\ipykernel_25616\\1078158148.py:2: UserWarning: Could not infer format, so each element will be parsed individually, falling back to `dateutil`. To ensure parsing is consistent and as-expected, please specify a format.\n",
      "  crime['Date Rptd'] = pd.to_datetime(crime['Date Rptd'])\n"
     ]
    }
   ],
   "source": [
    "#convertion en objet datetime\n",
    "crime['Date Rptd'] = pd.to_datetime(crime['Date Rptd'])\n",
    "\n",
    "# Création de nouvelle colonne\n",
    "\n",
    "crime['Année'] = crime['Date Rptd'].dt.year\n",
    "\n",
    "crime['Mois'] = crime['Date Rptd'].dt.month\n",
    "\n",
    "crime['Jours'] = crime['Date Rptd'].dt.day"
   ]
  },
  {
   "cell_type": "markdown",
   "id": "00ae5b55",
   "metadata": {},
   "source": [
    "#### Renommer les colonnes\n",
    "\n",
    "- Nous avons renommé les colonnes pour qu'elles suivent les conventions de Python (avec le '_') et éviter d'éventuelles erreurs.\n",
    "\n",
    "- Explication du code : Nous créons un dictionnaire qui contient toutes les clés (les anciens noms de colonnes) et les valeurs associées (les nouveaux noms de colonnes). Ensuite, nous utilisons la méthode `.rename()` pour renommer les colonnes comme spécifié entre parenthèses. En affectant le résultat à `columns` (les colonnes de notre DataFrame actuel), nous modifions directement notre DataFrame."
   ]
  },
  {
   "cell_type": "code",
   "execution_count": null,
   "id": "ee16fdd8",
   "metadata": {},
   "outputs": [],
   "source": [
    "#renommer les colonnes\n",
    "\n",
    "new_column_names = {'Date Rptd': 'date_rptd', \n",
    "                    'DATE OCC': 'date_occ', \n",
    "                    'TIME OCC': 'time_occ', \n",
    "                    'AREA NAME': 'area_name', \n",
    "                    'Rpt Dist No': 'rpt_dist_no', \n",
    "                    'Crm Cd': 'crm_cd', \n",
    "                    'Crm Cd Desc': 'crm_cd_desc', \n",
    "                    'Vict Age': 'vict_age', \n",
    "                    'Vict Sex': 'vict_sex', \n",
    "                    'Vict Descent': 'vict_descent', \n",
    "                    'Premis Cd': 'premis_cd', \n",
    "                    'Premis Desc': 'premis_desc', \n",
    "                    'Weapon Used Cd': 'weapon_used_cd', \n",
    "                    'Weapon Desc': 'weapon_desc', \n",
    "                    'Status Desc': 'status_desc',  \n",
    "                    'Cross Street': 'cross_street'\n",
    "                   }\n",
    "\n",
    "crime.rename(columns=new_column_names, inplace=True)\n"
   ]
  },
  {
   "cell_type": "markdown",
   "id": "75c390cf",
   "metadata": {},
   "source": [
    "#### Catégoriser les Crimes grâce aux rapports de l'UCR\n",
    "\n",
    "- Explication du code : Nous créons une liste pour chaque type de crime. Dans ces listes, nous avons des codes de crimes (les codes associés aux crimes commis). Notre objectif est de faire correspondre (mapper) les crimes que nous voyons dans notre base de données en catégories, conformément à ce qui est écrit dans le rapport de l'UCR. Par exemple, les codes de crime 110 (homicide) et 113 (homicide involontaire) représentent les crimes d'homicide. Nous allons donc les regrouper dans la catégorie homicide. Nous faisons ensuite la même chose pour les vols, les viols, les violences domestiques, etc.\n",
    "\n",
    "- Remarque : Nous avons une catégorie 'Other theft' qui regroupe les crimes qui ne peuvent pas être regroupés dans d'autres catégories.\n",
    "\n",
    "- De plus, nous devons créer une fonction pour pouvoir mapper les codes de crimes aux catégories. Dans cette fonction, nous spécifions notre paramètre (code) qui prendra les valeurs de la colonne 'crm cd' (codes de crimes). Nous indiquons que lorsque la valeur de code est similaire à un élément de homicide, de viol, de vol... nous retournons le nom de la catégorie associée au code de crime.\n",
    "\n",
    "- Ensuite, nous appliquerons la fonction à la colonne 'crm cd' grâce à `.apply()`. Les catégories de crimes remplaceront donc leurs codes de crimes respectifs. Cela augmentera la lisibilité des données de notre base de données."
   ]
  },
  {
   "cell_type": "code",
   "execution_count": null,
   "id": "62e5610d",
   "metadata": {
    "scrolled": false
   },
   "outputs": [],
   "source": [
    "\n",
    "# Definition des codes crime par rapport à chaque catégorie : Basé sur le rapport de l' UCR ==> pdf  UCR.COMPSTAT062618\n",
    "\n",
    "# Homicide\n",
    "HOMICIDE = [110, 113]\n",
    "\n",
    "# Viol\n",
    "RAPE = [121, 122, 815, 820, 821]\n",
    "\n",
    "# Vol\n",
    "ROBBERY = [210, 220]\n",
    "\n",
    "# Assaults aggravated ==> aggression aggravé\n",
    "AGG_ASSAULTS = [230, 231, 235]\n",
    "\n",
    "# Violence domestique\n",
    "DOMESTIC_VIOLENCE = [626, 627, 647, 763, 928, 930, 236, 250, 251, 761, 926]\n",
    "\n",
    "# agression simple\n",
    "SIMPLE_ASSAULT = [435, 436, 437, 622, 623, 624, 625]\n",
    "\n",
    "# cambriolage\n",
    "BURGLARY = [310, 320]\n",
    "\n",
    "# Motor vehicule stolen ( ou GTA : grand theft auto) ==> vol de vehicule\n",
    "MVT = [510, 520, 433]\n",
    "\n",
    "# Burgalry / theft for vehicule\n",
    "BTFV = [330, 331, 410, 420, 421]\n",
    "\n",
    "# vol personnelle \n",
    "PERSONAL_THFT = [350, 351, 352, 353, 450, 451, 452, 453]\n",
    "\n",
    "\n",
    "# fonction qui va nous permettre de mapper les codes crimes de notre base de donnée aux catégories que l'on a crée au dessus\n",
    "def map_category(code):\n",
    "    if code in HOMICIDE:\n",
    "        return 'HOMICIDE'\n",
    "    elif code in RAPE:\n",
    "        return 'RAPE'\n",
    "    elif code in ROBBERY:\n",
    "        return 'ROBBERY'\n",
    "    elif code in AGG_ASSAULTS:\n",
    "        return 'AGG.ASSAULTS'\n",
    "    elif code in DOMESTIC_VIOLENCE:\n",
    "        return 'Domestic.Violence'\n",
    "    elif code in SIMPLE_ASSAULT:\n",
    "        return 'SIMPLE.ASSAULT'\n",
    "    elif code in BURGLARY:\n",
    "        return 'BURGLARY'\n",
    "    elif code in MVT:\n",
    "        return 'MVT'\n",
    "    elif code in BTFV:\n",
    "        return 'BTFV'\n",
    "    elif code in PERSONAL_THFT:\n",
    "        return 'PERSONAL.THFT'\n",
    "    else:\n",
    "        return 'OTHER.THEFT'\n",
    "\n",
    "# Mapper les codes crimes aux catégories\n",
    "\n",
    "if 'crm_cd' in crime.columns:\n",
    "   \n",
    "    crime['crm_cd'] = crime['crm_cd'].apply(map_category)\n",
    "else:\n",
    "    print(\"The 'Crm Cd' column does not exist in the DataFrame.\")"
   ]
  },
  {
   "cell_type": "markdown",
   "id": "3d48bf88",
   "metadata": {},
   "source": [
    "#### Catégoriser les crimes selon leur nature\n",
    "\n",
    "- Nous créons un dictionnaire pour relier chaque catégorie de crimes à une catégorie plus générale. Par exemple, les catégories qui représentent des crimes liés à des vols seront catégorisées dans la catégorie \"vol\". Nous choisissons le mot \"larceny\" pour ne pas trop nous répéter avec le mot \"theft\". Les homicides ne sont ni des agressions au sens strict de la loi, ni des vols, donc leur catégorisation sera \"inconnue\".\n",
    "\n",
    "- Ensuite, nous créons une fonction qui permettra d'associer chaque catégorie de la colonne 'crm_cd' à sa catégorie plus générale qui lui est associée. Si la valeur de 'crm_cd' correspond à une clé du dictionnaire, la fonction retourne la valeur correspondante à cette clé (par exemple, si 'crm_cd' = 'BFTV', alors `crime_dict[\"BFTV\"]` correspond à la valeur \"larceny\").\n",
    "\n",
    "- Enfin, nous écrivons une instruction pour exécuter notre fonction sur la colonne 'crm_cd'. Les catégories générales des catégories initiales seront dans une nouvelle colonne appelée \"crime_category\" (car nous avons besoin des valeurs de la colonne 'crm_cd' dans notre analyse)."
   ]
  },
  {
   "cell_type": "code",
   "execution_count": null,
   "id": "f439fdcc",
   "metadata": {},
   "outputs": [],
   "source": [
    "\n",
    "# Creation d'un dictionaire \n",
    "crime_dict = {\n",
    "    \"BTFV\": \"Larceny\",\n",
    "    \"BURGLARY\": \"Larceny\",\n",
    "    \"ROBBERY\": \"Larceny\",\n",
    "    \"MVT\": \"Larceny\",\n",
    "    \"OTHER.THEFT\": \"Larceny\",\n",
    "    \"PERSONAL.THFT\": \"Larceny\",\n",
    "    \"RAPE\": \"Assault\",\n",
    "    \"AGG.ASSAULTS\": \"Assault\",\n",
    "    \"Domestic.Violence\": \"Assault\",\n",
    "    \"SIMPLE.ASSAULT\": \"Assault\",\n",
    "    \"HOMICIDE\": \"Unknown\"\n",
    "}\n",
    "\n",
    "# Definition de notre fonction de correspondance\n",
    "def categorize_crime(crm_cd):\n",
    "    if crm_cd in crime_dict:\n",
    "        return crime_dict[crm_cd]\n",
    "    else:\n",
    "        return None\n",
    "\n",
    "# Appliquer la fonction pour la colonne  crm_cd et création d'une nouvelle colonne\n",
    "crime[\"crime_category\"] = crime[\"crm_cd\"].apply(categorize_crime)\n"
   ]
  },
  {
   "cell_type": "markdown",
   "id": "97cc7dd9",
   "metadata": {},
   "source": [
    "#### Trier les types de crime selon leur degré d'agressivité (Violent ou Property)\n",
    "\n",
    "Il peut être pertinent de catégoriser les crimes selon s'ils sont violents ou s'ils ciblent seulement la propriété. En juridiction pénale à Los Angeles, on distingue ces deux types de crimes. Le document de l'UCR nous donne la liste des crimes qui appartiennent soit aux crimes violents, soit aux crimes contre la propriété. Cette distinction est cruciale car cela nous donne un bon indice sur la dangerosité d'un quartier, mais aussi très utile pour appliquer de nouvelles politiques et une allocation des ressources optimale (fournir plus de matériel aux agents de l'ordre afin d'être mieux préparé face aux criminels).\n",
    "\n",
    "Les \"violent crimes\" (crimes violents) correspondent à des actes criminels où la force ou la menace est utilisée contre des victimes.\n",
    "\n",
    "Les \"property crimes\" (ou crimes contre la propriété) font référence à une catégorie de crimes qui impliquent le vol de propriété ou la dégradation de biens, sans usage de force ou menace contre les victimes.\n",
    "\n",
    "Nous avons utilisé la même méthode que pour la catégorisation plus générale des catégories des crimes. Cette fois-ci, nous avons créé une colonne \"crime_type\"."
   ]
  },
  {
   "cell_type": "code",
   "execution_count": null,
   "id": "d9b53737",
   "metadata": {},
   "outputs": [],
   "source": [
    "\n",
    "\n",
    "# dictionnaire avec lels catégorie de crimes et leurs type d'agressivité.\n",
    "crime_dict = {\n",
    "    \"BTFV\": \"Property\",\n",
    "    \"MVT\": \"Property\",\n",
    "    \"BURGLARY\": \"Property\",\n",
    "    \"OTHER.THEFT\": \"Property\",\n",
    "    \"PERSONAL.THFT\": \"Property\",\n",
    "    \"HOMICIDE\": \"Violent\",\n",
    "    \"RAPE\": \"Violent\",\n",
    "    \"ROBBERY\": \"Violent\",\n",
    "    \"AGG.ASSAULTS\": \"Violent\",\n",
    "    \"Domestic.Violence\": \"Violent\",\n",
    "    \"SIMPLE.ASSAULT\": \"Violent\"\n",
    "}\n",
    "\n",
    "# fonction pour mapper les donnée\n",
    "def categorize_crime_type(crm_cd):\n",
    "    if crm_cd in crime_dict:\n",
    "        return crime_dict[crm_cd]\n",
    "    else:\n",
    "        return None\n",
    "\n",
    "# instruction pour apliquer la fonction dans la colonne crm_code et afficher les données dans une  une nouvelle colonne \n",
    "crime[\"crime_type\"] = crime[\"crm_cd\"].apply(categorize_crime_type)\n"
   ]
  },
  {
   "cell_type": "markdown",
   "id": "f79eda38",
   "metadata": {},
   "source": [
    "Nous supprimons la colonne 'date_rptd' car nous avons déjà extrait les années, les mois et les jours dans de nouvelles colonnes. La conversion de 'date_rptd' en datetime servait seulement à remplir cet objectif d'extraction."
   ]
  },
  {
   "cell_type": "code",
   "execution_count": null,
   "id": "fcd67ef7",
   "metadata": {},
   "outputs": [],
   "source": [
    "#drop date_rptd\n",
    "crime.drop('date_rptd', axis=1, inplace=True)"
   ]
  },
  {
   "cell_type": "markdown",
   "id": "48b6bf4d",
   "metadata": {},
   "source": [
    "On peut enfin constaté qu'après notre data preprocesssing, nous n'avons aucune valeur manquante, ce qui est idéal pour une analyse fiable et efficace."
   ]
  },
  {
   "cell_type": "code",
   "execution_count": null,
   "id": "624e042f",
   "metadata": {},
   "outputs": [
    {
     "data": {
      "text/plain": [
       "DR_NO                  0\n",
       "date_occ               0\n",
       "time_occ               0\n",
       "AREA                   0\n",
       "area_name              0\n",
       "rpt_dist_no            0\n",
       "Part 1-2               0\n",
       "crm_cd                 0\n",
       "crm_cd_desc            0\n",
       "Mocodes                0\n",
       "vict_age               0\n",
       "vict_sex               0\n",
       "vict_descent           0\n",
       "premis_cd              0\n",
       "premis_desc            0\n",
       "weapon_used_cd         0\n",
       "weapon_desc            0\n",
       "Status                 0\n",
       "status_desc            0\n",
       "LOCATION               0\n",
       "cross_street      779952\n",
       "LAT                    0\n",
       "LON                    0\n",
       "Année                  0\n",
       "Mois                   0\n",
       "Jours                  0\n",
       "crime_category         0\n",
       "crime_type             0\n",
       "dtype: int64"
      ]
     },
     "execution_count": 17,
     "metadata": {},
     "output_type": "execute_result"
    }
   ],
   "source": [
    "crime.isna().sum()"
   ]
  },
  {
   "cell_type": "code",
   "execution_count": null,
   "id": "b247cb8c",
   "metadata": {},
   "outputs": [
    {
     "data": {
      "text/html": [
       "<div>\n",
       "<style scoped>\n",
       "    .dataframe tbody tr th:only-of-type {\n",
       "        vertical-align: middle;\n",
       "    }\n",
       "\n",
       "    .dataframe tbody tr th {\n",
       "        vertical-align: top;\n",
       "    }\n",
       "\n",
       "    .dataframe thead th {\n",
       "        text-align: right;\n",
       "    }\n",
       "</style>\n",
       "<table border=\"1\" class=\"dataframe\">\n",
       "  <thead>\n",
       "    <tr style=\"text-align: right;\">\n",
       "      <th></th>\n",
       "      <th>DR_NO</th>\n",
       "      <th>date_occ</th>\n",
       "      <th>time_occ</th>\n",
       "      <th>AREA</th>\n",
       "      <th>area_name</th>\n",
       "      <th>rpt_dist_no</th>\n",
       "      <th>Part 1-2</th>\n",
       "      <th>crm_cd</th>\n",
       "      <th>crm_cd_desc</th>\n",
       "      <th>Mocodes</th>\n",
       "      <th>...</th>\n",
       "      <th>status_desc</th>\n",
       "      <th>LOCATION</th>\n",
       "      <th>cross_street</th>\n",
       "      <th>LAT</th>\n",
       "      <th>LON</th>\n",
       "      <th>Année</th>\n",
       "      <th>Mois</th>\n",
       "      <th>Jours</th>\n",
       "      <th>crime_category</th>\n",
       "      <th>crime_type</th>\n",
       "    </tr>\n",
       "  </thead>\n",
       "  <tbody>\n",
       "    <tr>\n",
       "      <th>0</th>\n",
       "      <td>190326475</td>\n",
       "      <td>03/01/2020 12:00:00 AM</td>\n",
       "      <td>2130</td>\n",
       "      <td>7</td>\n",
       "      <td>Wilshire</td>\n",
       "      <td>784</td>\n",
       "      <td>1</td>\n",
       "      <td>MVT</td>\n",
       "      <td>VEHICLE - STOLEN</td>\n",
       "      <td>1501 Other MO</td>\n",
       "      <td>...</td>\n",
       "      <td>Adult Arrest</td>\n",
       "      <td>1900 S  LONGWOOD                     AV</td>\n",
       "      <td>NaN</td>\n",
       "      <td>34.0375</td>\n",
       "      <td>-118.3506</td>\n",
       "      <td>2020</td>\n",
       "      <td>3</td>\n",
       "      <td>1</td>\n",
       "      <td>Larceny</td>\n",
       "      <td>Property</td>\n",
       "    </tr>\n",
       "    <tr>\n",
       "      <th>3</th>\n",
       "      <td>200907217</td>\n",
       "      <td>03/10/2020 12:00:00 AM</td>\n",
       "      <td>2037</td>\n",
       "      <td>9</td>\n",
       "      <td>Van Nuys</td>\n",
       "      <td>964</td>\n",
       "      <td>1</td>\n",
       "      <td>OTHER.THEFT</td>\n",
       "      <td>SHOPLIFTING-GRAND THEFT ($950.01 &amp; OVER)</td>\n",
       "      <td>0325 1501</td>\n",
       "      <td>...</td>\n",
       "      <td>Invest Cont</td>\n",
       "      <td>14000    RIVERSIDE                    DR</td>\n",
       "      <td>NaN</td>\n",
       "      <td>34.1576</td>\n",
       "      <td>-118.4387</td>\n",
       "      <td>2023</td>\n",
       "      <td>5</td>\n",
       "      <td>10</td>\n",
       "      <td>Larceny</td>\n",
       "      <td>Property</td>\n",
       "    </tr>\n",
       "    <tr>\n",
       "      <th>4</th>\n",
       "      <td>220614831</td>\n",
       "      <td>08/17/2020 12:00:00 AM</td>\n",
       "      <td>1200</td>\n",
       "      <td>6</td>\n",
       "      <td>Hollywood</td>\n",
       "      <td>666</td>\n",
       "      <td>2</td>\n",
       "      <td>OTHER.THEFT</td>\n",
       "      <td>THEFT OF IDENTITY</td>\n",
       "      <td>1822 1501 0930 2004</td>\n",
       "      <td>...</td>\n",
       "      <td>Invest Cont</td>\n",
       "      <td>1900    TRANSIENT</td>\n",
       "      <td>NaN</td>\n",
       "      <td>34.0944</td>\n",
       "      <td>-118.3277</td>\n",
       "      <td>2022</td>\n",
       "      <td>8</td>\n",
       "      <td>18</td>\n",
       "      <td>Larceny</td>\n",
       "      <td>Property</td>\n",
       "    </tr>\n",
       "    <tr>\n",
       "      <th>5</th>\n",
       "      <td>231808869</td>\n",
       "      <td>12/01/2020 12:00:00 AM</td>\n",
       "      <td>2300</td>\n",
       "      <td>18</td>\n",
       "      <td>Southeast</td>\n",
       "      <td>1826</td>\n",
       "      <td>2</td>\n",
       "      <td>OTHER.THEFT</td>\n",
       "      <td>THEFT OF IDENTITY</td>\n",
       "      <td>1822 0100 0930 0929</td>\n",
       "      <td>...</td>\n",
       "      <td>Invest Cont</td>\n",
       "      <td>9900    COMPTON                      AV</td>\n",
       "      <td>NaN</td>\n",
       "      <td>33.9467</td>\n",
       "      <td>-118.2463</td>\n",
       "      <td>2023</td>\n",
       "      <td>4</td>\n",
       "      <td>4</td>\n",
       "      <td>Larceny</td>\n",
       "      <td>Property</td>\n",
       "    </tr>\n",
       "    <tr>\n",
       "      <th>6</th>\n",
       "      <td>230110144</td>\n",
       "      <td>07/03/2020 12:00:00 AM</td>\n",
       "      <td>900</td>\n",
       "      <td>1</td>\n",
       "      <td>Central</td>\n",
       "      <td>182</td>\n",
       "      <td>2</td>\n",
       "      <td>OTHER.THEFT</td>\n",
       "      <td>THEFT OF IDENTITY</td>\n",
       "      <td>0930 0929</td>\n",
       "      <td>...</td>\n",
       "      <td>Invest Cont</td>\n",
       "      <td>1100 S  GRAND                        AV</td>\n",
       "      <td>NaN</td>\n",
       "      <td>34.0415</td>\n",
       "      <td>-118.2620</td>\n",
       "      <td>2023</td>\n",
       "      <td>4</td>\n",
       "      <td>4</td>\n",
       "      <td>Larceny</td>\n",
       "      <td>Property</td>\n",
       "    </tr>\n",
       "  </tbody>\n",
       "</table>\n",
       "<p>5 rows × 28 columns</p>\n",
       "</div>"
      ],
      "text/plain": [
       "       DR_NO                date_occ  time_occ  AREA  area_name  rpt_dist_no  \\\n",
       "0  190326475  03/01/2020 12:00:00 AM      2130     7   Wilshire          784   \n",
       "3  200907217  03/10/2020 12:00:00 AM      2037     9   Van Nuys          964   \n",
       "4  220614831  08/17/2020 12:00:00 AM      1200     6  Hollywood          666   \n",
       "5  231808869  12/01/2020 12:00:00 AM      2300    18  Southeast         1826   \n",
       "6  230110144  07/03/2020 12:00:00 AM       900     1    Central          182   \n",
       "\n",
       "   Part 1-2       crm_cd                               crm_cd_desc  \\\n",
       "0         1          MVT                          VEHICLE - STOLEN   \n",
       "3         1  OTHER.THEFT  SHOPLIFTING-GRAND THEFT ($950.01 & OVER)   \n",
       "4         2  OTHER.THEFT                         THEFT OF IDENTITY   \n",
       "5         2  OTHER.THEFT                         THEFT OF IDENTITY   \n",
       "6         2  OTHER.THEFT                         THEFT OF IDENTITY   \n",
       "\n",
       "               Mocodes  ...   status_desc  \\\n",
       "0        1501 Other MO  ...  Adult Arrest   \n",
       "3            0325 1501  ...   Invest Cont   \n",
       "4  1822 1501 0930 2004  ...   Invest Cont   \n",
       "5  1822 0100 0930 0929  ...   Invest Cont   \n",
       "6            0930 0929  ...   Invest Cont   \n",
       "\n",
       "                                   LOCATION cross_street      LAT       LON  \\\n",
       "0   1900 S  LONGWOOD                     AV          NaN  34.0375 -118.3506   \n",
       "3  14000    RIVERSIDE                    DR          NaN  34.1576 -118.4387   \n",
       "4                         1900    TRANSIENT          NaN  34.0944 -118.3277   \n",
       "5   9900    COMPTON                      AV          NaN  33.9467 -118.2463   \n",
       "6   1100 S  GRAND                        AV          NaN  34.0415 -118.2620   \n",
       "\n",
       "   Année Mois Jours crime_category crime_type  \n",
       "0   2020    3     1        Larceny   Property  \n",
       "3   2023    5    10        Larceny   Property  \n",
       "4   2022    8    18        Larceny   Property  \n",
       "5   2023    4     4        Larceny   Property  \n",
       "6   2023    4     4        Larceny   Property  \n",
       "\n",
       "[5 rows x 28 columns]"
      ]
     },
     "execution_count": 18,
     "metadata": {},
     "output_type": "execute_result"
    }
   ],
   "source": [
    "#visualtion de notre base de donnée nettoyé.\n",
    "crime.head(5)"
   ]
  },
  {
   "cell_type": "markdown",
   "id": "2fb47254",
   "metadata": {},
   "source": [
    "On enregistre le dataframe nettoyé dans un nouveau fichier CSV. index = false car nous voulons pas avoir de probleme d'importation et meme seulement pour économiser de l'espace de stockage."
   ]
  },
  {
   "cell_type": "code",
   "execution_count": null,
   "id": "6d21d86e",
   "metadata": {},
   "outputs": [],
   "source": [
    "# \n",
    "crime_data = crime.to_csv('allcleanedcrimedata', index=False)"
   ]
  }
 ],
 "metadata": {
  "kernelspec": {
   "display_name": "Python 3 (ipykernel)",
   "language": "python",
   "name": "python3"
  },
  "language_info": {
   "codemirror_mode": {
    "name": "ipython",
    "version": 3
   },
   "file_extension": ".py",
   "mimetype": "text/x-python",
   "name": "python",
   "nbconvert_exporter": "python",
   "pygments_lexer": "ipython3",
   "version": "3.11.7"
  }
 },
 "nbformat": 4,
 "nbformat_minor": 5
}
